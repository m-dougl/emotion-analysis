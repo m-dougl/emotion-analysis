{
 "cells": [
  {
   "cell_type": "markdown",
   "metadata": {},
   "source": [
    "## Emotion analysis and classification of short comments using machine learning techniques\n",
    "+ Code developed by: Douglas Maia dos Santos\n",
    "+ Github acess: https://github.com/m-dougl/emotion-analysis"
   ]
  },
  {
   "cell_type": "markdown",
   "metadata": {},
   "source": [
    "##### Importing libraries for proper code functioning\n",
    "The purpose of this code is to test the impacto of the oversampling function on the models that were implemented in \"main.ipynb\""
   ]
  },
  {
   "cell_type": "code",
   "execution_count": 23,
   "metadata": {},
   "outputs": [
    {
     "name": "stderr",
     "output_type": "stream",
     "text": [
      "[nltk_data] Downloading package rslp to /home/douglas/nltk_data...\n",
      "[nltk_data]   Package rslp is already up-to-date!\n",
      "[nltk_data] Downloading package stopwords to\n",
      "[nltk_data]     /home/douglas/nltk_data...\n",
      "[nltk_data]   Package stopwords is already up-to-date!\n"
     ]
    }
   ],
   "source": [
    "\n",
    "from sklearn.svm import SVC\n",
    "from sklearn.naive_bayes import MultinomialNB\n",
    "from sklearn.neighbors import KNeighborsClassifier\n",
    "from sklearn.model_selection import GridSearchCV, train_test_split\n",
    "from sklearn.metrics import accuracy_score, precision_score, recall_score, f1_score, confusion_matrix\n",
    "from sklearn.feature_extraction.text import CountVectorizer, TfidfVectorizer\n",
    "from sklearn.ensemble import VotingClassifier, BaggingClassifier, RandomForestClassifier, GradientBoostingClassifier \n",
    "from sklearn.ensemble import StackingClassifier, AdaBoostClassifier\n",
    "                              \n",
    "from nltk.tokenize import RegexpTokenizer\n",
    "from collections import Counter\n",
    "from unicodedata import normalize\n",
    "from imblearn.over_sampling import SMOTE\n",
    "import pandas as pd\n",
    "import nltk\n",
    "import numpy as np\n",
    "import string\n",
    "import emotion_analysis\n",
    "import matplotlib.pyplot as plt\n",
    "import seaborn as sns\n",
    "import warnings\n",
    "\n",
    "warnings.filterwarnings('ignore')\n",
    "nltk.download('rslp')\n",
    "nltk.download('stopwords')\n",
    "plt.style.use('seaborn')"
   ]
  },
  {
   "cell_type": "markdown",
   "metadata": {},
   "source": [
    "### Pre processing part"
   ]
  },
  {
   "cell_type": "code",
   "execution_count": 24,
   "metadata": {},
   "outputs": [],
   "source": [
    "df = emotion_analysis.open_dataset('dataset.xlsx', 'xlsx')\n",
    "df.Emoção = df.Emoção.str.lower()"
   ]
  },
  {
   "cell_type": "code",
   "execution_count": 25,
   "metadata": {},
   "outputs": [],
   "source": [
    "df.Comentarios = df.Comentarios.apply(emotion_analysis.remove_characters)\n",
    "df.Comentarios = df.Comentarios.apply(emotion_analysis.remove_accents)\n",
    "df.Comentarios = df.Comentarios.apply(emotion_analysis.tokenize)\n",
    "df.Comentarios = df.Comentarios.apply(emotion_analysis.remove_stopwords)\n",
    "df.Comentarios = df.Comentarios.apply(emotion_analysis.untokenize)\n",
    "df.Comentarios = df.Comentarios.apply(emotion_analysis.stemming)"
   ]
  },
  {
   "cell_type": "code",
   "execution_count": 26,
   "metadata": {},
   "outputs": [],
   "source": [
    "X, y = df.Comentarios, df.Emoção\n",
    "X = emotion_analysis.vectorizer(X, 'tfidf')"
   ]
  },
  {
   "cell_type": "code",
   "execution_count": 27,
   "metadata": {},
   "outputs": [],
   "source": [
    "train_size = .8\n",
    "X_train, X_test, y_train, y_test = emotion_analysis.dataset_split(X, y, train_size)"
   ]
  },
  {
   "cell_type": "code",
   "execution_count": 28,
   "metadata": {},
   "outputs": [
    {
     "name": "stdout",
     "output_type": "stream",
     "text": [
      "====================\n",
      "Naive Bayes best parameters: {'alpha': 1, 'fit_prior': False}\n",
      "Naive Bayes best accuracy in 10 folds: 63.901098901098905\n",
      "====================\n",
      "====================\n",
      "Support Vector Machine best parameters: {'C': 1, 'gamma': 0.001, 'kernel': 'linear'}\n",
      "Support Vector Machine best accuracy in 10 folds: 65.32967032967034\n",
      "====================\n",
      "====================\n",
      "K-Nearest Neighbors best parameters: {'algorithm': 'auto', 'n_neighbors': 6}\n",
      "K-Nearest Neighbors best accuracy in 10 folds: 56.53846153846154\n",
      "====================\n"
     ]
    },
    {
     "data": {
      "text/plain": [
       "'\\npred_nb  = NB.predict(X_test)   # Naive Bayes prediction\\npred_svm = SVM.predict(X_test)  # SVM prediction\\npred_knn = KNN.predict(X_test)  # KNN prediction\\n'"
      ]
     },
     "execution_count": 28,
     "metadata": {},
     "output_type": "execute_result"
    }
   ],
   "source": [
    "n_fold = 10\n",
    "NB  = emotion_analysis.cv_train(classifier_name='NB',  X=X_train, y= y_train, n_fold=n_fold)\n",
    "SVM = emotion_analysis.cv_train(classifier_name='SVM', X=X_train, y= y_train, n_fold=n_fold)\n",
    "KNN = emotion_analysis.cv_train(classifier_name='KNN', X=X_train, y= y_train, n_fold=n_fold)\n",
    "'''\n",
    "pred_nb  = NB.predict(X_test)   # Naive Bayes prediction\n",
    "pred_svm = SVM.predict(X_test)  # SVM prediction\n",
    "pred_knn = KNN.predict(X_test)  # KNN prediction\n",
    "'''"
   ]
  },
  {
   "cell_type": "code",
   "execution_count": 29,
   "metadata": {},
   "outputs": [],
   "source": [
    "SVM = SVC(C=1000, gamma= 1e-3, kernel = 'rbf').fit(X_train, y_train)\n",
    "NB  = MultinomialNB(alpha = 1, fit_prior= False).fit(X_train, y_train)\n",
    "KNN = KNeighborsClassifier(algorithm='auto', n_neighbors=5).fit(X_train, y_train)\n",
    "estimators = [('svm', SVM),\n",
    "              ('nb', NB),\n",
    "              ('knn', KNN)]"
   ]
  },
  {
   "cell_type": "markdown",
   "metadata": {},
   "source": [
    "### Ensemble: Votting Classifier"
   ]
  },
  {
   "cell_type": "code",
   "execution_count": 30,
   "metadata": {},
   "outputs": [
    {
     "name": "stdout",
     "output_type": "stream",
     "text": [
      "[Voting] ...................... (1 of 3) Processing svm, total=   0.0s\n",
      "[Voting] ....................... (2 of 3) Processing nb, total=   0.0s\n",
      "[Voting] ...................... (3 of 3) Processing knn, total=   0.0s\n"
     ]
    }
   ],
   "source": [
    "voting = VotingClassifier(estimators = estimators,\n",
    "                          voting     = 'hard',\n",
    "                          verbose    = True).fit(X_train, y_train)"
   ]
  },
  {
   "cell_type": "code",
   "execution_count": 31,
   "metadata": {},
   "outputs": [],
   "source": [
    "pred_voting = voting.predict(X_test)"
   ]
  },
  {
   "cell_type": "code",
   "execution_count": 32,
   "metadata": {},
   "outputs": [
    {
     "name": "stdout",
     "output_type": "stream",
     "text": [
      "====================\n",
      "Voting Classifier Metrics:\n",
      "Accuracy: 0.6285714285714286\n",
      "Precision: 0.6462962962962963\n",
      "Recall: 0.5916666666666667\n",
      "F1-Score: 0.6063492063492064\n",
      "====================\n"
     ]
    }
   ],
   "source": [
    "accuracy_voting  = accuracy_score(y_test, pred_voting)\n",
    "precision_voting = precision_score(y_test, pred_voting, average='macro')\n",
    "recall_voting    = recall_score(y_test, pred_voting, average='macro')\n",
    "fscore_voting    = f1_score(y_test, pred_voting, average='macro')\n",
    "print('='*20)\n",
    "print('Voting Classifier Metrics:')\n",
    "print(f'Accuracy: {accuracy_voting}')\n",
    "print(f'Precision: {precision_voting}')\n",
    "print(f'Recall: {recall_voting}')\n",
    "print(f'F1-Score: {fscore_voting}')\n",
    "print('='*20)"
   ]
  },
  {
   "cell_type": "markdown",
   "metadata": {},
   "source": [
    "### Ensemble: Bagging Classifier"
   ]
  },
  {
   "cell_type": "code",
   "execution_count": 33,
   "metadata": {},
   "outputs": [
    {
     "name": "stderr",
     "output_type": "stream",
     "text": [
      "[Parallel(n_jobs=1)]: Using backend SequentialBackend with 1 concurrent workers.\n",
      "[Parallel(n_jobs=1)]: Done   1 out of   1 | elapsed:    1.6s finished\n"
     ]
    }
   ],
   "source": [
    "# svm\n",
    "bagging_svm = BaggingClassifier(base_estimator = SVM,\n",
    "                            n_estimators   = 500,\n",
    "                            bootstrap=True,\n",
    "                            verbose=True).fit(X_train, y_train)"
   ]
  },
  {
   "cell_type": "code",
   "execution_count": 34,
   "metadata": {},
   "outputs": [
    {
     "name": "stderr",
     "output_type": "stream",
     "text": [
      "[Parallel(n_jobs=1)]: Using backend SequentialBackend with 1 concurrent workers.\n",
      "[Parallel(n_jobs=1)]: Done   1 out of   1 | elapsed:    0.8s finished\n"
     ]
    }
   ],
   "source": [
    "# naive bayes\n",
    "bagging_nb = BaggingClassifier(base_estimator = NB,\n",
    "                            n_estimators   = 500,\n",
    "                            bootstrap=True,\n",
    "                            verbose=True).fit(X_train, y_train)"
   ]
  },
  {
   "cell_type": "code",
   "execution_count": 35,
   "metadata": {},
   "outputs": [
    {
     "name": "stderr",
     "output_type": "stream",
     "text": [
      "[Parallel(n_jobs=1)]: Using backend SequentialBackend with 1 concurrent workers.\n",
      "[Parallel(n_jobs=1)]: Done   1 out of   1 | elapsed:    0.6s finished\n"
     ]
    }
   ],
   "source": [
    "# knn\n",
    "bagging_knn = BaggingClassifier(base_estimator = KNN,\n",
    "                            n_estimators   = 500,\n",
    "                            bootstrap=True,\n",
    "                            verbose=True).fit(X_train, y_train)"
   ]
  },
  {
   "cell_type": "code",
   "execution_count": 36,
   "metadata": {},
   "outputs": [
    {
     "name": "stderr",
     "output_type": "stream",
     "text": [
      "[Parallel(n_jobs=1)]: Using backend SequentialBackend with 1 concurrent workers.\n",
      "[Parallel(n_jobs=1)]: Done   1 out of   1 | elapsed:    0.3s finished\n",
      "[Parallel(n_jobs=1)]: Using backend SequentialBackend with 1 concurrent workers.\n",
      "[Parallel(n_jobs=1)]: Done   1 out of   1 | elapsed:    0.1s finished\n",
      "[Parallel(n_jobs=1)]: Using backend SequentialBackend with 1 concurrent workers.\n",
      "[Parallel(n_jobs=1)]: Done   1 out of   1 | elapsed:    0.8s finished\n"
     ]
    }
   ],
   "source": [
    "bagging = [bagging_svm.predict(X_test),\n",
    "           bagging_nb.predict(X_test),\n",
    "           bagging_knn.predict(X_test)]"
   ]
  },
  {
   "cell_type": "code",
   "execution_count": 37,
   "metadata": {},
   "outputs": [
    {
     "name": "stdout",
     "output_type": "stream",
     "text": [
      "Bagging Classifiers Metrics:\n",
      "========================================\n",
      "bg_SVM accuracy: 0.6857142857142857\n",
      "bg_NB accuracy: 0.6\n",
      "bg_KNN accuracy: 0.5428571428571428\n",
      "----------------------------------------\n",
      "bg_SVM Precision: 0.665079365079365\n",
      "bg_NB Precision: 0.6338624338624338\n",
      "bg_KNN Precision: 0.5766666666666667\n",
      "----------------------------------------\n",
      "bg_SVM Recall: 0.6416666666666667\n",
      "bg_NB Recall: 0.563888888888889\n",
      "bg_KNN Recall: 0.47500000000000003\n",
      "----------------------------------------\n",
      "bg_SVM F1-Score: 0.6484848484848484\n",
      "bg_NB F1-Score: 0.5797720797720798\n",
      "bg_KNN F1-Score: 0.4666666666666666\n",
      "========================================\n"
     ]
    }
   ],
   "source": [
    "bg_accuracy  = []\n",
    "bg_precision = []\n",
    "bg_recall    = []\n",
    "bg_fscore    = []\n",
    "\n",
    "labels = ['bg_SVM', 'bg_NB', 'bg_KNN']\n",
    "for k in range(len(bagging)):\n",
    "    bg_accuracy.append(accuracy_score(y_test, bagging[k]))\n",
    "    bg_precision.append(precision_score(y_test, bagging[k], average = 'macro'))\n",
    "    bg_recall.append(recall_score(y_test, bagging[k], average = 'macro'))\n",
    "    bg_fscore.append(f1_score(y_test, bagging[k], average = 'macro'))\n",
    "print('Bagging Classifiers Metrics:')\n",
    "print('='*40)\n",
    "for k in range(len(bagging)):\n",
    "    print(f'{labels[k]} accuracy: {bg_accuracy[k]}')\n",
    "print('-'*40)\n",
    "for k in range(len(bagging)):\n",
    "    print(f'{labels[k]} Precision: {bg_precision[k]}')\n",
    "print('-'*40)\n",
    "for k in range(len(bagging)):\n",
    "    print(f'{labels[k]} Recall: {bg_recall[k]}')\n",
    "print('-'*40)\n",
    "for k in range(len(bagging)):\n",
    "    print(f'{labels[k]} F1-Score: {bg_fscore[k]}')\n",
    "print('='*40)"
   ]
  },
  {
   "cell_type": "markdown",
   "metadata": {},
   "source": [
    "### Ensemble: RandomForestClassifier"
   ]
  },
  {
   "cell_type": "code",
   "execution_count": 38,
   "metadata": {},
   "outputs": [
    {
     "name": "stdout",
     "output_type": "stream",
     "text": [
      "====================\n",
      "Random Forest Classifier Metrics:\n",
      "Accuracy: 0.4857142857142857\n",
      "Precision: 0.42142857142857143\n",
      "Recall: 0.39999999999999997\n",
      "F1-Score: 0.3584131326949384\n",
      "====================\n"
     ]
    }
   ],
   "source": [
    "random_forest = RandomForestClassifier()\n",
    "random_forest.fit(X_train, y_train)\n",
    "\n",
    "rf_predict = random_forest.predict(X_test)\n",
    "\n",
    "accuracy_rf  = accuracy_score(y_test, rf_predict)\n",
    "precision_rf = precision_score(y_test, rf_predict, average='macro')\n",
    "recall_rf    = recall_score(y_test, rf_predict, average='macro')\n",
    "fscore_rf    = f1_score(y_test, rf_predict, average='macro')\n",
    "print('='*20)\n",
    "print('Random Forest Classifier Metrics:')\n",
    "print(f'Accuracy: {accuracy_rf}')\n",
    "print(f'Precision: {precision_rf}')\n",
    "print(f'Recall: {recall_rf}')\n",
    "print(f'F1-Score: {fscore_rf}')\n",
    "print('='*20)"
   ]
  },
  {
   "cell_type": "markdown",
   "metadata": {},
   "source": [
    "### Ensemble: Gradient Tree boosting"
   ]
  },
  {
   "cell_type": "code",
   "execution_count": 39,
   "metadata": {},
   "outputs": [
    {
     "name": "stdout",
     "output_type": "stream",
     "text": [
      "====================\n",
      "Gradient Boosting Classifier Metrics:\n",
      "Accuracy: 0.6285714285714286\n",
      "Precision: 0.5994152046783626\n",
      "Recall: 0.5722222222222223\n",
      "F1-Score: 0.5686274509803922\n",
      "====================\n"
     ]
    }
   ],
   "source": [
    "gradient = GradientBoostingClassifier()\n",
    "gradient.fit(X_train, y_train)\n",
    "\n",
    "gradient_predict = gradient.predict(X_test)\n",
    "\n",
    "accuracy_gradient  = accuracy_score(y_test, gradient_predict)\n",
    "precision_gradient = precision_score(y_test, gradient_predict, average='macro')\n",
    "recall_gradient    = recall_score(y_test, gradient_predict, average='macro')\n",
    "fscore_gradient    = f1_score(y_test, gradient_predict, average='macro')\n",
    "print('='*20)\n",
    "print('Gradient Boosting Classifier Metrics:')\n",
    "print(f'Accuracy: {accuracy_gradient}')\n",
    "print(f'Precision: {precision_gradient}')\n",
    "print(f'Recall: {recall_gradient}')\n",
    "print(f'F1-Score: {fscore_gradient}')\n",
    "print('='*20)"
   ]
  },
  {
   "cell_type": "markdown",
   "metadata": {},
   "source": [
    "### Ensemble: Stacking Classifier"
   ]
  },
  {
   "cell_type": "code",
   "execution_count": 40,
   "metadata": {},
   "outputs": [],
   "source": [
    "SVM = SVC(C=1000, gamma= 1e-3, kernel = 'rbf').fit(X_train, y_train)\n",
    "NB  = MultinomialNB(alpha = 1, fit_prior= False).fit(X_train, y_train)\n",
    "KNN = KNeighborsClassifier(algorithm='auto', n_neighbors=5).fit(X_train, y_train)\n",
    "estimators = [('svm', SVM),\n",
    "              ('nb', NB),\n",
    "              ('knn', KNN)]"
   ]
  },
  {
   "cell_type": "code",
   "execution_count": 41,
   "metadata": {},
   "outputs": [
    {
     "name": "stderr",
     "output_type": "stream",
     "text": [
      "[Parallel(n_jobs=1)]: Using backend SequentialBackend with 1 concurrent workers.\n",
      "[Parallel(n_jobs=1)]: Done   5 out of   5 | elapsed:    0.0s finished\n",
      "[Parallel(n_jobs=1)]: Using backend SequentialBackend with 1 concurrent workers.\n",
      "[Parallel(n_jobs=1)]: Done   5 out of   5 | elapsed:    0.0s finished\n",
      "[Parallel(n_jobs=1)]: Using backend SequentialBackend with 1 concurrent workers.\n",
      "[Parallel(n_jobs=1)]: Done   5 out of   5 | elapsed:    0.0s finished\n"
     ]
    },
    {
     "name": "stdout",
     "output_type": "stream",
     "text": [
      "====================\n",
      "Stacking Classifier Metrics:\n",
      "Accuracy: 0.5142857142857142\n",
      "Precision: 0.4794612794612794\n",
      "Recall: 0.46388888888888885\n",
      "F1-Score: 0.6063492063492064\n",
      "====================\n"
     ]
    }
   ],
   "source": [
    "stacking = StackingClassifier(estimators = estimators,\n",
    "                              final_estimator= GradientBoostingClassifier(),\n",
    "                              verbose    = True).fit(X_train, y_train)\n",
    "\n",
    "pred_stacking = stacking.predict(X_test)\n",
    "\n",
    "accuracy_stacking  = accuracy_score(y_test, pred_stacking)\n",
    "precision_stacking = precision_score(y_test, pred_stacking, average='macro')\n",
    "recall_stacking    = recall_score(y_test, pred_stacking, average='macro')\n",
    "fscore_stacking    = f1_score(y_test, pred_voting, average='macro')\n",
    "print('='*20)\n",
    "print('Stacking Classifier Metrics:')\n",
    "print(f'Accuracy: {accuracy_stacking}')\n",
    "print(f'Precision: {precision_stacking}')\n",
    "print(f'Recall: {recall_stacking}')\n",
    "print(f'F1-Score: {fscore_stacking}')\n",
    "print('='*20)"
   ]
  },
  {
   "cell_type": "markdown",
   "metadata": {},
   "source": [
    "### Neural Network Test"
   ]
  },
  {
   "cell_type": "code",
   "execution_count": 42,
   "metadata": {},
   "outputs": [
    {
     "name": "stdout",
     "output_type": "stream",
     "text": [
      "Iteration 1, loss = 1.17570046\n",
      "Iteration 2, loss = 1.03189824\n",
      "Iteration 3, loss = 0.90218991\n",
      "Iteration 4, loss = 0.77490571\n",
      "Iteration 5, loss = 0.63285474\n",
      "Iteration 6, loss = 0.50191834\n",
      "Iteration 7, loss = 0.38502444\n",
      "Iteration 8, loss = 0.29122272\n",
      "Iteration 9, loss = 0.21938886\n",
      "Iteration 10, loss = 0.16579619\n",
      "Iteration 11, loss = 0.12388090\n",
      "Iteration 12, loss = 0.09514694\n",
      "Iteration 13, loss = 0.07533502\n",
      "Iteration 14, loss = 0.06025173\n",
      "Iteration 15, loss = 0.04951875\n",
      "Iteration 16, loss = 0.04121852\n",
      "Iteration 17, loss = 0.03540050\n",
      "Iteration 18, loss = 0.03092703\n",
      "Iteration 19, loss = 0.02692271\n",
      "Iteration 20, loss = 0.02400024\n",
      "Iteration 21, loss = 0.02151441\n",
      "Iteration 22, loss = 0.01925197\n",
      "Iteration 23, loss = 0.01735997\n",
      "Iteration 24, loss = 0.01592602\n",
      "Iteration 25, loss = 0.01476174\n",
      "Iteration 26, loss = 0.01387359\n",
      "Iteration 27, loss = 0.01258122\n",
      "Iteration 28, loss = 0.01180799\n",
      "Iteration 29, loss = 0.01093916\n",
      "Iteration 30, loss = 0.01028266\n",
      "Iteration 31, loss = 0.00975594\n",
      "Iteration 32, loss = 0.00920880\n",
      "Iteration 33, loss = 0.00875609\n",
      "Iteration 34, loss = 0.00831429\n",
      "Iteration 35, loss = 0.00797085\n",
      "Iteration 36, loss = 0.00765291\n",
      "Iteration 37, loss = 0.00733221\n",
      "Iteration 38, loss = 0.00705414\n",
      "Iteration 39, loss = 0.00680010\n",
      "Iteration 40, loss = 0.00658908\n",
      "Iteration 41, loss = 0.00639082\n",
      "Iteration 42, loss = 0.00619686\n",
      "Iteration 43, loss = 0.00600457\n",
      "Iteration 44, loss = 0.00584084\n",
      "Iteration 45, loss = 0.00569357\n",
      "Iteration 46, loss = 0.00555924\n",
      "Iteration 47, loss = 0.00541921\n",
      "Iteration 48, loss = 0.00529973\n",
      "Iteration 49, loss = 0.00517499\n",
      "Iteration 50, loss = 0.00507212\n",
      "Iteration 51, loss = 0.00497532\n",
      "Iteration 52, loss = 0.00488248\n",
      "Iteration 53, loss = 0.00480626\n",
      "Iteration 54, loss = 0.00471129\n",
      "Iteration 55, loss = 0.00462390\n",
      "Iteration 56, loss = 0.00455556\n",
      "Iteration 57, loss = 0.00448466\n",
      "Iteration 58, loss = 0.00441812\n",
      "Iteration 59, loss = 0.00435396\n",
      "Iteration 60, loss = 0.00428893\n",
      "Iteration 61, loss = 0.00423624\n",
      "Training loss did not improve more than tol=0.000100 for 10 consecutive epochs. Stopping.\n"
     ]
    },
    {
     "data": {
      "text/html": [
       "<style>#sk-container-id-2 {color: black;background-color: white;}#sk-container-id-2 pre{padding: 0;}#sk-container-id-2 div.sk-toggleable {background-color: white;}#sk-container-id-2 label.sk-toggleable__label {cursor: pointer;display: block;width: 100%;margin-bottom: 0;padding: 0.3em;box-sizing: border-box;text-align: center;}#sk-container-id-2 label.sk-toggleable__label-arrow:before {content: \"▸\";float: left;margin-right: 0.25em;color: #696969;}#sk-container-id-2 label.sk-toggleable__label-arrow:hover:before {color: black;}#sk-container-id-2 div.sk-estimator:hover label.sk-toggleable__label-arrow:before {color: black;}#sk-container-id-2 div.sk-toggleable__content {max-height: 0;max-width: 0;overflow: hidden;text-align: left;background-color: #f0f8ff;}#sk-container-id-2 div.sk-toggleable__content pre {margin: 0.2em;color: black;border-radius: 0.25em;background-color: #f0f8ff;}#sk-container-id-2 input.sk-toggleable__control:checked~div.sk-toggleable__content {max-height: 200px;max-width: 100%;overflow: auto;}#sk-container-id-2 input.sk-toggleable__control:checked~label.sk-toggleable__label-arrow:before {content: \"▾\";}#sk-container-id-2 div.sk-estimator input.sk-toggleable__control:checked~label.sk-toggleable__label {background-color: #d4ebff;}#sk-container-id-2 div.sk-label input.sk-toggleable__control:checked~label.sk-toggleable__label {background-color: #d4ebff;}#sk-container-id-2 input.sk-hidden--visually {border: 0;clip: rect(1px 1px 1px 1px);clip: rect(1px, 1px, 1px, 1px);height: 1px;margin: -1px;overflow: hidden;padding: 0;position: absolute;width: 1px;}#sk-container-id-2 div.sk-estimator {font-family: monospace;background-color: #f0f8ff;border: 1px dotted black;border-radius: 0.25em;box-sizing: border-box;margin-bottom: 0.5em;}#sk-container-id-2 div.sk-estimator:hover {background-color: #d4ebff;}#sk-container-id-2 div.sk-parallel-item::after {content: \"\";width: 100%;border-bottom: 1px solid gray;flex-grow: 1;}#sk-container-id-2 div.sk-label:hover label.sk-toggleable__label {background-color: #d4ebff;}#sk-container-id-2 div.sk-serial::before {content: \"\";position: absolute;border-left: 1px solid gray;box-sizing: border-box;top: 0;bottom: 0;left: 50%;z-index: 0;}#sk-container-id-2 div.sk-serial {display: flex;flex-direction: column;align-items: center;background-color: white;padding-right: 0.2em;padding-left: 0.2em;position: relative;}#sk-container-id-2 div.sk-item {position: relative;z-index: 1;}#sk-container-id-2 div.sk-parallel {display: flex;align-items: stretch;justify-content: center;background-color: white;position: relative;}#sk-container-id-2 div.sk-item::before, #sk-container-id-2 div.sk-parallel-item::before {content: \"\";position: absolute;border-left: 1px solid gray;box-sizing: border-box;top: 0;bottom: 0;left: 50%;z-index: -1;}#sk-container-id-2 div.sk-parallel-item {display: flex;flex-direction: column;z-index: 1;position: relative;background-color: white;}#sk-container-id-2 div.sk-parallel-item:first-child::after {align-self: flex-end;width: 50%;}#sk-container-id-2 div.sk-parallel-item:last-child::after {align-self: flex-start;width: 50%;}#sk-container-id-2 div.sk-parallel-item:only-child::after {width: 0;}#sk-container-id-2 div.sk-dashed-wrapped {border: 1px dashed gray;margin: 0 0.4em 0.5em 0.4em;box-sizing: border-box;padding-bottom: 0.4em;background-color: white;}#sk-container-id-2 div.sk-label label {font-family: monospace;font-weight: bold;display: inline-block;line-height: 1.2em;}#sk-container-id-2 div.sk-label-container {text-align: center;}#sk-container-id-2 div.sk-container {/* jupyter's `normalize.less` sets `[hidden] { display: none; }` but bootstrap.min.css set `[hidden] { display: none !important; }` so we also need the `!important` here to be able to override the default hidden behavior on the sphinx rendered scikit-learn.org. See: https://github.com/scikit-learn/scikit-learn/issues/21755 */display: inline-block !important;position: relative;}#sk-container-id-2 div.sk-text-repr-fallback {display: none;}</style><div id=\"sk-container-id-2\" class=\"sk-top-container\"><div class=\"sk-text-repr-fallback\"><pre>MLPClassifier(batch_size=10, hidden_layer_sizes=(500, 5),\n",
       "              learning_rate=&#x27;adaptive&#x27;, verbose=True)</pre><b>In a Jupyter environment, please rerun this cell to show the HTML representation or trust the notebook. <br />On GitHub, the HTML representation is unable to render, please try loading this page with nbviewer.org.</b></div><div class=\"sk-container\" hidden><div class=\"sk-item\"><div class=\"sk-estimator sk-toggleable\"><input class=\"sk-toggleable__control sk-hidden--visually\" id=\"sk-estimator-id-2\" type=\"checkbox\" checked><label for=\"sk-estimator-id-2\" class=\"sk-toggleable__label sk-toggleable__label-arrow\">MLPClassifier</label><div class=\"sk-toggleable__content\"><pre>MLPClassifier(batch_size=10, hidden_layer_sizes=(500, 5),\n",
       "              learning_rate=&#x27;adaptive&#x27;, verbose=True)</pre></div></div></div></div></div>"
      ],
      "text/plain": [
       "MLPClassifier(batch_size=10, hidden_layer_sizes=(500, 5),\n",
       "              learning_rate='adaptive', verbose=True)"
      ]
     },
     "execution_count": 42,
     "metadata": {},
     "output_type": "execute_result"
    }
   ],
   "source": [
    "from sklearn.neural_network import MLPClassifier\n",
    "\n",
    "nn = MLPClassifier(hidden_layer_sizes = (500,5),\n",
    "                   activation         = 'relu',\n",
    "                   solver             = 'adam',\n",
    "                   alpha              = 1e-4,\n",
    "                   batch_size         = 10,\n",
    "                   learning_rate      = 'adaptive',\n",
    "                   verbose            = True)\n",
    "nn.fit(X_train, y_train)"
   ]
  },
  {
   "cell_type": "code",
   "execution_count": 43,
   "metadata": {},
   "outputs": [],
   "source": [
    "pred_nn = nn.predict(X_test)"
   ]
  },
  {
   "cell_type": "code",
   "execution_count": 44,
   "metadata": {},
   "outputs": [
    {
     "name": "stdout",
     "output_type": "stream",
     "text": [
      "====================\n",
      "nn Classifier Metrics:\n",
      "Accuracy: 0.5428571428571428\n",
      "Precision: 0.5555555555555555\n",
      "Recall: 0.49444444444444446\n",
      "F1-Score: 0.6063492063492064\n",
      "====================\n"
     ]
    }
   ],
   "source": [
    "accuracy_nn  = accuracy_score(y_test, pred_nn)\n",
    "precision_nn = precision_score(y_test, pred_nn, average='macro')\n",
    "recall_nn    = recall_score(y_test, pred_nn, average='macro')\n",
    "fscore_nn    = f1_score(y_test, pred_voting, average='macro')\n",
    "print('='*20)\n",
    "print('nn Classifier Metrics:')\n",
    "print(f'Accuracy: {accuracy_nn}')\n",
    "print(f'Precision: {precision_nn}')\n",
    "print(f'Recall: {recall_nn}')\n",
    "print(f'F1-Score: {fscore_nn}')\n",
    "print('='*20)"
   ]
  }
 ],
 "metadata": {
  "kernelspec": {
   "display_name": "Python 3.8.13 ('test_env')",
   "language": "python",
   "name": "python3"
  },
  "language_info": {
   "codemirror_mode": {
    "name": "ipython",
    "version": 3
   },
   "file_extension": ".py",
   "mimetype": "text/x-python",
   "name": "python",
   "nbconvert_exporter": "python",
   "pygments_lexer": "ipython3",
   "version": "3.8.13"
  },
  "orig_nbformat": 4,
  "vscode": {
   "interpreter": {
    "hash": "775d1c0f935f56092980f8cbca6d6fabf18e7db24d124724005f66c4ac8515ef"
   }
  }
 },
 "nbformat": 4,
 "nbformat_minor": 2
}
